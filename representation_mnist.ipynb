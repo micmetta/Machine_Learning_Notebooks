{
  "nbformat": 4,
  "nbformat_minor": 0,
  "metadata": {
    "language_info": {
      "codemirror_mode": {
        "name": "ipython",
        "version": 3
      },
      "file_extension": ".py",
      "mimetype": "text/x-python",
      "name": "python",
      "nbconvert_exporter": "python",
      "pygments_lexer": "ipython3",
      "version": "3.8.5-final"
    },
    "orig_nbformat": 2,
    "kernelspec": {
      "name": "python3",
      "display_name": "Python 3"
    },
    "colab": {
      "provenance": []
    }
  },
  "cells": [
    {
      "cell_type": "code",
      "metadata": {
        "id": "fMvAzB8hJOiV"
      },
      "source": [
        "import tensorflow as tf\n",
        "from tensorflow.keras.datasets import mnist\n",
        "\n",
        "from tensorflow import keras\n",
        "\n",
        "from tensorflow.keras.layers import Dense\n",
        "from tensorflow.keras.layers import Input\n",
        "from tensorflow.keras.models import Model\n",
        "from tensorflow.keras.layers import Conv2D\n",
        "from tensorflow.keras.layers import MaxPool2D\n",
        "from tensorflow.keras.layers import Flatten\n",
        "from tensorflow.keras.layers import Dropout\n",
        "from tensorflow.keras.losses import CategoricalCrossentropy\n",
        "\n",
        "import numpy as np\n",
        "import matplotlib.pyplot as plt"
      ],
      "execution_count": null,
      "outputs": []
    },
    {
      "cell_type": "markdown",
      "metadata": {
        "id": "w9G7eU7-JOiY"
      },
      "source": [
        "# Loading the dataset"
      ]
    },
    {
      "cell_type": "code",
      "metadata": {
        "id": "vlwNJQWqJOiY"
      },
      "source": [
        "(m_x_train, m_y_train), (m_x_test, m_y_test) = mnist.load_data()\n",
        "\n",
        "\n",
        "m_x_train = m_x_train / 255\n",
        "m_x_test = m_x_test / 255\n"
      ],
      "execution_count": null,
      "outputs": []
    },
    {
      "cell_type": "markdown",
      "metadata": {
        "id": "7nGXv0_CsSJY"
      },
      "source": []
    },
    {
      "cell_type": "markdown",
      "metadata": {
        "id": "wYWuPNiWJOib"
      },
      "source": [
        "## Splitting the training set into two halves"
      ]
    },
    {
      "cell_type": "code",
      "metadata": {
        "id": "5Cf_fgBmJOib"
      },
      "source": [
        "m_x_train_04 = m_x_train[m_y_train <= 4] #memorizzo in questa variabile solo la parte di train per gli esempi che hanno etichetta da 0 a 4.\n",
        "m_y_train_04 = m_y_train[m_y_train <= 4]\n",
        "\n",
        "m_x_train_59 = m_x_train[m_y_train > 4]\n",
        "m_y_train_59 = m_y_train[m_y_train > 4]\n",
        "\n",
        "\n",
        "\n",
        "# modify the y variables to encode them as one-hot vectors\n",
        "m_y_train_04 = tf.one_hot(m_y_train_04, depth=5)\n",
        "m_y_train_59 = tf.one_hot(m_y_train_59-5, depth=5)"
      ],
      "execution_count": null,
      "outputs": []
    },
    {
      "cell_type": "markdown",
      "metadata": {
        "id": "11d5JV9fJOid"
      },
      "source": [
        "# Models"
      ]
    },
    {
      "cell_type": "markdown",
      "metadata": {
        "id": "oH8Qjv7yJOie"
      },
      "source": [
        "## Model for labels 0-4\n",
        "\n",
        "Let us build a convolutional NN for classifying the digits between 0 and 4. Since we will want to share the weights with the network for classifying the digits between 5 and 9 it helps to structure the network so to group together the layers up to the representation and from the representation to the output.\n",
        "\n",
        "In Keras we can do that by building a model for the layers up to the representation, one model for the rest of the layer and tiying them together using a third *final* model.\n",
        "\n",
        "The representation model can be built using the following layers:\n",
        "\n",
        "- convolution, 32 kernels, kernel size (5,5), strides (2,2), activation relu\n",
        "- convolution, 64 kernels, kernel size (3,3), activation relu\n",
        "- maxpool, pool size (2,2)\n",
        "- dropout 25%\n",
        "- a \"Flatten\" layer to create the representation as a single vector\n",
        "\n",
        "The classification part of the model can be built using the following layers:\n",
        "\n",
        "- dense, 128 neurons, activation sigmoid\n",
        "- dropout 25%\n",
        "- output layer with 5 neurons and softmax activation\n",
        "\n",
        "The mnist_04 final model is just the concatenation of these two parts\n"
      ]
    },
    {
      "cell_type": "code",
      "metadata": {
        "id": "BcXySuaHJOie"
      },
      "source": [
        "repr_in_04 = Input(shape=[28,28,1])\n",
        "x = Conv2D(32, kernel_size=(5,5), strides=(2,2), activation=\"relu\") (repr_in_04)\n",
        "x = Conv2D(64, kernel_size=(3,3), strides=(2,2), activation=\"relu\") (x)\n",
        "x = MaxPool2D(pool_size=(2,2)) (x)\n",
        "x = Dropout(rate=0.25) (x)\n",
        "repr_out_04 = Flatten() (x)\n",
        "repr_model_04 = Model(repr_in_04, repr_out_04)\n",
        "\n",
        "\n",
        "mnist_cls_in_04 = Input(shape=repr_out_04.shape[1:])\n",
        "x = Dense(128, activation=\"sigmoid\") (mnist_cls_in_04)\n",
        "x = Dropout(0.25)(x)\n",
        "mnist_cls_out_04 = Dense(5, activation=\"softmax\") (x)\n",
        "\n",
        "mnist_cls_04 = Model(mnist_cls_in_04, mnist_cls_out_04)\n",
        "\n",
        "mnist_04 = Model(repr_in_04, mnist_cls_04(repr_model_04(repr_in_04)))\n"
      ],
      "execution_count": null,
      "outputs": []
    },
    {
      "cell_type": "markdown",
      "metadata": {
        "id": "Kdj03MNcJOig"
      },
      "source": [
        "## Model for labels 5-9\n",
        "\n",
        "The model for classifying digits between 5 and 9 is just a replica of the model for classifying digits between 0 and 4."
      ]
    },
    {
      "cell_type": "code",
      "metadata": {
        "id": "Af9WVvVvJOih"
      },
      "source": [
        "\n",
        "repr_in_59 = Input(shape=[28,28,1])\n",
        "x = Conv2D(32, kernel_size=(5,5), strides=(2,2), activation=\"relu\") (repr_in_59)\n",
        "x = Conv2D(64, kernel_size=(3,3), strides=(2,2), activation=\"relu\") (x)\n",
        "x = MaxPool2D(pool_size=(2,2)) (x)\n",
        "x = Dropout(rate=0.25) (x)\n",
        "repr_out_59 = Flatten() (x)\n",
        "\n",
        "repr_model_59 = Model(repr_in_59, repr_out_59)\n",
        "\n",
        "\n",
        "\n",
        "mnist_cls_in_59 =  Input(shape=repr_out_04.shape[1:])\n",
        "\n",
        "x = Dense(128, activation=\"sigmoid\") (mnist_cls_in_59)\n",
        "x = Dropout(0.25)(x)\n",
        "mnist_cls_out_59 = Dense(5, activation=\"softmax\") (x)\n",
        "\n",
        "mnist_cls_59 = Model(mnist_cls_in_59, mnist_cls_out_59)\n",
        "\n",
        "mnist_59 =  Model(repr_in_59, mnist_cls_59( repr_model_59(repr_in_59) )  )"
      ],
      "execution_count": null,
      "outputs": []
    },
    {
      "cell_type": "markdown",
      "metadata": {
        "id": "_RL9Ey2EJOij"
      },
      "source": [
        "## Fitting the 0-4 model"
      ]
    },
    {
      "cell_type": "code",
      "metadata": {
        "id": "7wB67YVRJOij"
      },
      "source": [
        "mnist_04.compile(loss=\"categorical_crossentropy\", metrics=\"accuracy\")"
      ],
      "execution_count": null,
      "outputs": []
    },
    {
      "cell_type": "code",
      "metadata": {
        "id": "vkLJFBUuJOim",
        "outputId": "20f208bb-6704-4cf3-d18e-cf264fe35c41",
        "colab": {
          "base_uri": "https://localhost:8080/"
        }
      },
      "source": [
        "tf_callback_04 = tf.keras.callbacks.TensorBoard(log_dir=\"logs/04\")\n",
        "hist_04 = mnist_04.fit(m_x_train_04, m_y_train_04, epochs=5, callbacks=[tf_callback_04]) #callbacks è una lista di funzioni che invoca ad intervalli regolari (alla fine di ogni epoca di default)"
      ],
      "execution_count": null,
      "outputs": [
        {
          "output_type": "stream",
          "text": [
            "Epoch 1/5\n",
            "  1/957 [..............................] - ETA: 0s - loss: 1.9144 - accuracy: 0.1562WARNING:tensorflow:From /usr/local/lib/python3.6/dist-packages/tensorflow/python/ops/summary_ops_v2.py:1277: stop (from tensorflow.python.eager.profiler) is deprecated and will be removed after 2020-07-01.\n",
            "Instructions for updating:\n",
            "use `tf.profiler.experimental.stop` instead.\n",
            "  2/957 [..............................] - ETA: 24s - loss: 1.7780 - accuracy: 0.2188WARNING:tensorflow:Callbacks method `on_train_batch_end` is slow compared to the batch time (batch time: 0.0190s vs `on_train_batch_end` time: 0.0313s). Check your callbacks.\n",
            "957/957 [==============================] - 9s 9ms/step - loss: 0.1916 - accuracy: 0.9388\n",
            "Epoch 2/5\n",
            "957/957 [==============================] - 8s 9ms/step - loss: 0.0783 - accuracy: 0.9756\n",
            "Epoch 3/5\n",
            "957/957 [==============================] - 8s 9ms/step - loss: 0.0623 - accuracy: 0.9807\n",
            "Epoch 4/5\n",
            "957/957 [==============================] - 12s 12ms/step - loss: 0.0571 - accuracy: 0.9825\n",
            "Epoch 5/5\n",
            "957/957 [==============================] - 8s 9ms/step - loss: 0.0498 - accuracy: 0.9850\n"
          ],
          "name": "stdout"
        }
      ]
    },
    {
      "cell_type": "markdown",
      "metadata": {
        "id": "OK77b1aQJOio"
      },
      "source": [
        "## Sharing the representation layer weights\n",
        "\n",
        "If we check the weights of the two model's representation layers, we see thay are not shared (we could have shared by building the models from the same definitions of the layers)."
      ]
    },
    {
      "cell_type": "code",
      "metadata": {
        "id": "0jlcoGAAJOio",
        "outputId": "b72d4290-f6f8-4eb0-ec62-81abb470d58d",
        "colab": {
          "base_uri": "https://localhost:8080/"
        }
      },
      "source": [
        "\n",
        "diffs = np.array(mnist_04.layers[1].get_weights()) - np.array(mnist_59.layers[1].get_weights())\n",
        "for i in range(diffs.shape[0]):\n",
        "    print(np.sum(np.abs(diffs[i])))"
      ],
      "execution_count": null,
      "outputs": [
        {
          "output_type": "stream",
          "text": [
            "85.11949\n",
            "1.7032628\n",
            "1587.5774\n",
            "3.6385446\n"
          ],
          "name": "stdout"
        }
      ]
    },
    {
      "cell_type": "markdown",
      "metadata": {
        "id": "q4BJ9NkDJOiq"
      },
      "source": [
        "Let us set the mnist_59 weights for the representation layer be equal to those of the mnist_04 model."
      ]
    },
    {
      "cell_type": "code",
      "metadata": {
        "id": "4wz_Xhm9JOir"
      },
      "source": [
        "mnist_59.layers[1].set_weights(mnist_04.layers[1].get_weights()) #setto i pesi del nuovo modello uguali a quelli del modello\n",
        "#già addestrato e che magari per essere addestrato ha avuto bisogno di molto tempo."
      ],
      "execution_count": null,
      "outputs": []
    },
    {
      "cell_type": "code",
      "metadata": {
        "id": "6qhF5IEuJOit",
        "outputId": "e3eabe68-4dfa-4674-baab-7cea1b7f58d3",
        "colab": {
          "base_uri": "https://localhost:8080/"
        }
      },
      "source": [
        "diffs = np.array(mnist_04.layers[1].get_weights()) - np.array(mnist_59.layers[1].get_weights())\n",
        "for i in range(diffs.shape[0]):\n",
        "    print(np.sum(np.abs(diffs[i])))"
      ],
      "execution_count": null,
      "outputs": [
        {
          "output_type": "stream",
          "text": [
            "0.0\n",
            "0.0\n",
            "0.0\n",
            "0.0\n"
          ],
          "name": "stdout"
        }
      ]
    },
    {
      "cell_type": "markdown",
      "metadata": {
        "id": "ipxsfXgvJOiu"
      },
      "source": [
        "## Fitting the 59 model"
      ]
    },
    {
      "cell_type": "markdown",
      "metadata": {
        "id": "gfredLXoJOiv"
      },
      "source": [
        "Before training the mnist_59 model we want to make the representation layer not trainable."
      ]
    },
    {
      "cell_type": "code",
      "metadata": {
        "id": "_2iC1sVYJOiv",
        "outputId": "842accc0-10f0-4a43-e695-3dda9d2622ed",
        "colab": {
          "base_uri": "https://localhost:8080/"
        }
      },
      "source": [
        "mnist_59.layers[1].trainable = False #dico che la parte di rappresentazione (livelli convoluzionali ecc..)\n",
        "#del nuovo modello non è più addestrabile\n",
        "mnist_59.compile(loss=\"categorical_crossentropy\", metrics=\"accuracy\")\n",
        "\n",
        "tf_callback_59 = tf.keras.callbacks.TensorBoard(log_dir=\"logs/59\")\n",
        "# shall we use Tensorboard?\n",
        "hist_59 = mnist_59.fit(m_x_train_59, m_y_train_59, epochs=5, callbacks=[tf_callback_59])"
      ],
      "execution_count": null,
      "outputs": [
        {
          "output_type": "stream",
          "text": [
            "Epoch 1/5\n",
            "  1/919 [..............................] - ETA: 0s - loss: 1.7312 - accuracy: 0.2500WARNING:tensorflow:Callbacks method `on_train_batch_end` is slow compared to the batch time (batch time: 0.0071s vs `on_train_batch_end` time: 0.0290s). Check your callbacks.\n",
            "919/919 [==============================] - 3s 4ms/step - loss: 0.3333 - accuracy: 0.8922\n",
            "Epoch 2/5\n",
            "919/919 [==============================] - 4s 4ms/step - loss: 0.2129 - accuracy: 0.9261\n",
            "Epoch 3/5\n",
            "919/919 [==============================] - 4s 4ms/step - loss: 0.1963 - accuracy: 0.9336\n",
            "Epoch 4/5\n",
            "919/919 [==============================] - 3s 4ms/step - loss: 0.1857 - accuracy: 0.9385\n",
            "Epoch 5/5\n",
            "919/919 [==============================] - 4s 4ms/step - loss: 0.1760 - accuracy: 0.9409\n"
          ],
          "name": "stdout"
        }
      ]
    },
    {
      "cell_type": "markdown",
      "metadata": {
        "id": "1fq41JxXJOix"
      },
      "source": [
        "# MNIST no representation learning"
      ]
    },
    {
      "cell_type": "markdown",
      "metadata": {
        "id": "4nHujDB-JOiy"
      },
      "source": [
        "To compare results from the transfer learning settings with something sensible, let us then build a model that contains only the classification part (in this way we can apreciate what the representation learning part buys us)."
      ]
    },
    {
      "cell_type": "code",
      "metadata": {
        "id": "uVIDUYL9JOiy"
      },
      "source": [
        "norepr_cls_in_59 = Input(shape=[28,28,1])\n",
        "x = Flatten() (norepr_cls_in_59)\n",
        "x = Dense(128, activation=\"sigmoid\") (x)\n",
        "x = Dropout(0.25)(x)\n",
        "norepr_cls_out_59 = Dense(5, activation=\"softmax\") (x)\n",
        "\n",
        "norepr_model_59 = Model(norepr_cls_in_59, norepr_cls_out_59)"
      ],
      "execution_count": null,
      "outputs": []
    },
    {
      "cell_type": "code",
      "metadata": {
        "id": "ggkWXlT_JOi0",
        "outputId": "664d3f3e-5680-405f-b9ac-cbecddc114ba",
        "colab": {
          "base_uri": "https://localhost:8080/"
        }
      },
      "source": [
        "norepr_model_59.compile(loss=\"categorical_crossentropy\", metrics=\"accuracy\")\n",
        "tf_callback_59_norepr = tf.keras.callbacks.TensorBoard(log_dir=\"logs/591\")\n",
        "# shall we use Tensorboard?\n",
        "norepr_hist = norepr_model_59.fit(m_x_train_59, m_y_train_59, epochs=5, callbacks=[tf_callback_59_norepr])"
      ],
      "execution_count": null,
      "outputs": [
        {
          "output_type": "stream",
          "text": [
            "Epoch 1/5\n",
            "  1/919 [..............................] - ETA: 0s - loss: 2.0593 - accuracy: 0.1562WARNING:tensorflow:Callbacks method `on_train_batch_end` is slow compared to the batch time (batch time: 0.0044s vs `on_train_batch_end` time: 0.0255s). Check your callbacks.\n",
            "919/919 [==============================] - 2s 3ms/step - loss: 0.2980 - accuracy: 0.9079\n",
            "Epoch 2/5\n",
            "919/919 [==============================] - 2s 2ms/step - loss: 0.1584 - accuracy: 0.9497\n",
            "Epoch 3/5\n",
            "919/919 [==============================] - 2s 2ms/step - loss: 0.1244 - accuracy: 0.9609\n",
            "Epoch 4/5\n",
            "919/919 [==============================] - 2s 2ms/step - loss: 0.1069 - accuracy: 0.9676\n",
            "Epoch 5/5\n",
            "919/919 [==============================] - 2s 2ms/step - loss: 0.0935 - accuracy: 0.9706\n"
          ],
          "name": "stdout"
        }
      ]
    },
    {
      "cell_type": "markdown",
      "metadata": {
        "id": "36F_6WBnJOi2"
      },
      "source": [
        "# Plotting results\n",
        "\n",
        "The fit function returns an object with a `history` attribute containing the recording of training metrics through the epochs. We can use that information to plot what happened during training."
      ]
    },
    {
      "cell_type": "code",
      "metadata": {
        "id": "_lBnx_NPJOi3",
        "outputId": "df073877-9d15-4450-acfd-68fb4e5340c9",
        "colab": {
          "base_uri": "https://localhost:8080/",
          "height": 282
        }
      },
      "source": [
        "plt.plot(hist_04.history['accuracy'], label=\"04\")\n",
        "plt.plot(hist_59.history['accuracy'], label=\"59\")\n",
        "plt.plot(norepr_hist.history['accuracy'], label=\"59 norepr\")\n",
        "plt.legend()"
      ],
      "execution_count": null,
      "outputs": [
        {
          "output_type": "execute_result",
          "data": {
            "text/plain": [
              "<matplotlib.legend.Legend at 0x7fd7ae2af780>"
            ]
          },
          "metadata": {
            "tags": []
          },
          "execution_count": 113
        },
        {
          "output_type": "display_data",
          "data": {
            "image/png": "[encoded data removed]",
            "text/plain": [
              "<Figure size 432x288 with 1 Axes>"
            ]
          },
          "metadata": {
            "tags": [],
            "needs_background": "light"
          }
        }
      ]
    },
    {
      "cell_type": "code",
      "metadata": {
        "id": "3VTUJGGpJOi4"
      },
      "source": [],
      "execution_count": null,
      "outputs": []
    }
  ]
}