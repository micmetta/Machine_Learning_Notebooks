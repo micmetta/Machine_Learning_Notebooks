{
  "nbformat": 4,
  "nbformat_minor": 0,
  "metadata": {
    "anaconda-cloud": {},
    "kernelspec": {
      "display_name": "Python 3",
      "language": "python",
      "name": "python3"
    },
    "language_info": {
      "codemirror_mode": {
        "name": "ipython",
        "version": 3
      },
      "file_extension": ".py",
      "mimetype": "text/x-python",
      "name": "python",
      "nbconvert_exporter": "python",
      "pygments_lexer": "ipython3",
      "version": "3.9.1-final"
    },
    "colab": {
      "provenance": []
    }
  },
  "cells": [
    {
      "cell_type": "code",
      "metadata": {
        "id": "6BBWNdKw0GF7"
      },
      "source": [
        "import numpy as np\n",
        "import math\n",
        "from copy import deepcopy\n",
        "import sklearn.datasets\n",
        "from sklearn.svm import SVC\n",
        "import matplotlib.pyplot as plt"
      ],
      "execution_count": null,
      "outputs": []
    },
    {
      "cell_type": "markdown",
      "metadata": {
        "id": "fnraW-Ju0GGA"
      },
      "source": [
        "# Dataset\n",
        "\n",
        "We import the dataset from Hastie & Tibshirani book.\n",
        "This is an artificially generated binary classification problem. Labels are in the set $\\{-1,+1\\}$."
      ]
    },
    {
      "cell_type": "code",
      "metadata": {
        "id": "9qecPxCI0GGB",
        "colab": {
          "base_uri": "https://localhost:8080/"
        },
        "outputId": "7998301d-584c-42e2-a73f-4e938324079c"
      },
      "source": [
        "X,y = sklearn.datasets.make_hastie_10_2()\n",
        "X_train = X[0:8000,:]\n",
        "y_train = y[0:8000]\n",
        "X_test = X[8000:,:]\n",
        "y_test = y[8000:]\n",
        "\n",
        "len(y_test)"
      ],
      "execution_count": null,
      "outputs": [
        {
          "output_type": "execute_result",
          "data": {
            "text/plain": [
              "4000"
            ]
          },
          "metadata": {},
          "execution_count": 4
        }
      ]
    },
    {
      "cell_type": "markdown",
      "metadata": {
        "id": "9MgGqMPN0GGB"
      },
      "source": [
        "# Adaboost implementation\n",
        "\n",
        "Here we implement the Adaboost algorith. We shall assume that:\n",
        "- that the problem is a binary classification problem with labels in $\\{-1, +1\\}$.\n",
        "- that the weakModel can fit a weighted sample set by means of the call `weakModel.fit(X,y,sample_weight=w)` where `w` is a vector of length $n=|X|=|y|$."
      ]
    },
    {
      "cell_type": "code",
      "metadata": {
        "id": "mP7Dj2bn0GGB"
      },
      "source": [
        "class AdaBoost:\n",
        "    def __init__(self, weakModel, T): #weakModel è il vettore dei pesi di probabilità di ogni esempio\n",
        "        self.T = T #T è il numero di iterazioni ovvero il nuemro di weak learner che vogliamo apprendere\n",
        "        self.weakModel = weakModel #sarà i lvettore dei pesi degli esempi\n",
        "        self.alphas = [] #è il vettore che conterrà i pesi alfa t per ogni modello\n",
        "        self.classifiers = [] #conterrà i vari modelli che abbiamo appreso\n",
        "        self.wl_errors = [] #vettore che conterrà gli errori commessi dai singoli weak learner\n",
        "        self.ens_errors = [] #vettore che conterrà gli errori fatti dal modello ensamble durante l'apprendimento\n",
        "\n",
        "    def trainWeakModel(self, X, y, w):\n",
        "        result = deepcopy(self.weakModel) #creo una copia di weakModel che è indipendente però da quella presente in self.weakModel\n",
        "        result.fit(X,y, sample_weight=w)\n",
        "        return result\n",
        "\n",
        "\n",
        "    def weightedError(self, y, y_predette, w):\n",
        "        return np.sum(w[y != y_predette])\n",
        "\n",
        "        '''\n",
        "        et = 0\n",
        "        for i in range(len(y)):\n",
        "          if(y[i] != y_predette[i]):\n",
        "            et = et + w[i]\n",
        "        return et\n",
        "        '''\n",
        "\n",
        "    def fit(self, X, y):\n",
        "\n",
        "        n = len(y) #n è la dimensione del dataset\n",
        "        w = np.ones(n) / n #setto il vettore dei pesi degli esempi a valori tutti equiprobabili (poichè all'inizio gli esempi hanno la stessa probabilità)\n",
        "\n",
        "        ensamble_predictions = np.zeros(n)\n",
        "        print_step = np.max([1, self.T/100])\n",
        "\n",
        "\n",
        "        for t in range(self.T):\n",
        "\n",
        "          mt = self.trainWeakModel(X,y,w)\n",
        "          y_predette = mt.predict(X)\n",
        "          et = self.weightedError(y, y_predette, w)\n",
        "\n",
        "          if et >= 0.5:\n",
        "            print(\"Errore il weak learner ha raggiunto un errore maggiore di 0.5!\")\n",
        "\n",
        "          at = 0.5 * math.log((1-et)/et)\n",
        "\n",
        "          self.classifiers.append(mt)\n",
        "          self.alphas.append(at)\n",
        "\n",
        "          w = w * np.exp(-at * y * y_predette) #aggiorno il vettore dei pesi degli esempi\n",
        "\n",
        "          #NORMALIZZO Il vettore w per fa si che la somma di tutti i suoi elementi sia 1:\n",
        "          w = w / np.sum(w) #Al denominatore ho la somma di tutti i valori di w (ogni wi è maggiore di 0 quindi basta mettere la somma al denominatore)\n",
        "\n",
        "          ensamble_predictions += at * y_predette\n",
        "          ensamble_error = np.sum( np.sign(ensamble_predictions) != y ) / n #conto tutti gli esempi sbagliati dall'ensamble / numero totale di esempi (cosi' ottengo l'errore\n",
        "          #totale commesso dall'ensamble)\n",
        "\n",
        "          self.wl_errors.append(et)\n",
        "          self.ens_errors.append(ensamble_error)\n",
        "\n",
        "          if t > 1 and t % print_step==0: #stampo solo ogni tot di passi altrimenti avrei troppe stampe che sono costose\n",
        "              print(\"step:{} et:{:.4f} error:{:.4f}\".format(t, et, ensamble_error))\n",
        "\n",
        "\n",
        "\n",
        "        return self\n",
        "\n",
        "\n",
        "\n",
        "    def predict(self, X):\n",
        "        result = np.zeros(len(X))\n",
        "\n",
        "        for t in range(self.T):\n",
        "          y_predette = self.classifiers[t].predict(X)\n",
        "          result += self.alphas[t] + y_predette\n",
        "\n",
        "        return np.sign(result)\n",
        "\n",
        "\n",
        "\n",
        "\n"
      ],
      "execution_count": null,
      "outputs": []
    },
    {
      "cell_type": "markdown",
      "metadata": {
        "id": "zAEXQUd40GGB"
      },
      "source": [
        "# Testing with an SVM"
      ]
    },
    {
      "cell_type": "markdown",
      "metadata": {
        "id": "0g4wukU-0GGC"
      },
      "source": [
        "Let us now see how our iplementation of AdaBoost performs on the dataset we loaded above. In this experiment we want the weak learning algorithm $\\mathcal{A}$ to be good, but not too much. An SVM with a polynomial kernel of degre 3 works fine for our needs.\n",
        "\n",
        "The SVC implementation provided by sklearn does not work well when weights are normalized. The following code simply \"denormalize\" weights befor calling into SVC implementation."
      ]
    },
    {
      "cell_type": "code",
      "metadata": {
        "id": "MXnnoSfr0GGC"
      },
      "source": [
        "    class SVC_:\n",
        "        def __init__(self, kernel=\"rbf\", degree=\"3\"):\n",
        "            self.svc = SVC(kernel=kernel, degree=degree)\n",
        "\n",
        "        def fit(self, X,y,sample_weight=None):\n",
        "            if sample_weight is not None:\n",
        "                sample_weight = sample_weight * len(X) #scalo i pesi altrimenti la SVC di scikit non li accetta\n",
        "\n",
        "            self.svc.fit(X,y,sample_weight=sample_weight)\n",
        "            return self\n",
        "\n",
        "        def predict(self, X):\n",
        "            return self.svc.predict(X) #qui chiamo la predict della svm di scikit learn tanto non mi serve usare i pesi degli esempi"
      ],
      "execution_count": null,
      "outputs": []
    },
    {
      "cell_type": "code",
      "metadata": {
        "id": "w8P4Dm7e0GGC",
        "colab": {
          "base_uri": "https://localhost:8080/"
        },
        "outputId": "4710ddd1-44af-489c-8283-3b4fff88dfce"
      },
      "source": [
        "weakModel = SVC_(kernel=\"poly\", degree=3)\n",
        "adaboost = AdaBoost(weakModel, 30) #eseguo adaboost usando come weak learner la SVM con un kernel polinomiale di grado 3\n",
        "adaboost.fit(X_train, y_train)\n",
        "\n"
      ],
      "execution_count": null,
      "outputs": [
        {
          "output_type": "stream",
          "name": "stdout",
          "text": [
            "step:2 et:0.3790 error:0.2734\n",
            "step:3 et:0.4174 error:0.2734\n",
            "step:4 et:0.3727 error:0.2249\n",
            "step:5 et:0.4248 error:0.2249\n",
            "step:6 et:0.3739 error:0.2900\n",
            "step:7 et:0.4263 error:0.2072\n",
            "step:8 et:0.3753 error:0.2477\n",
            "step:9 et:0.4330 error:0.2360\n",
            "step:10 et:0.3901 error:0.2109\n",
            "step:11 et:0.4475 error:0.2109\n",
            "step:12 et:0.3856 error:0.1919\n",
            "step:13 et:0.4374 error:0.1919\n",
            "step:14 et:0.3967 error:0.1951\n",
            "step:15 et:0.4488 error:0.1884\n",
            "step:16 et:0.4004 error:0.1950\n",
            "step:17 et:0.4505 error:0.1879\n",
            "step:18 et:0.4074 error:0.1845\n",
            "step:19 et:0.4552 error:0.1821\n",
            "step:20 et:0.4033 error:0.1760\n",
            "step:21 et:0.4543 error:0.1739\n",
            "step:22 et:0.4048 error:0.1779\n",
            "step:23 et:0.4567 error:0.1714\n",
            "step:24 et:0.4260 error:0.1721\n",
            "step:25 et:0.4684 error:0.1695\n",
            "step:26 et:0.4199 error:0.1686\n",
            "step:27 et:0.4617 error:0.1679\n",
            "step:28 et:0.4275 error:0.1664\n",
            "step:29 et:0.4709 error:0.1648\n"
          ]
        },
        {
          "output_type": "execute_result",
          "data": {
            "text/plain": [
              "<__main__.AdaBoost at 0x7f02a1162850>"
            ]
          },
          "metadata": {},
          "execution_count": 12
        }
      ]
    },
    {
      "cell_type": "code",
      "metadata": {
        "id": "R17nCnLn0GGC",
        "colab": {
          "base_uri": "https://localhost:8080/",
          "height": 299
        },
        "outputId": "73f0ff6c-58ce-47f5-db64-86fe27a3aed1"
      },
      "source": [
        "#accuracy = (0.5 - y_train_.T * y_train/(2 * len(y_train)))\n",
        "\n",
        "y_train_ = adaboost.predict(X_train)\n",
        "y_test_ = adaboost.predict(X_test)\n",
        "\n",
        "\n",
        "train_err = np.sum(y_train_ != y_train) / len(y_train)\n",
        "test_err = np.sum(y_test_ != y_test) / len(y_test)\n",
        "\n",
        "print(\"train error:{:.4f} test error:{:.4f}\".format(train_err, test_err))\n",
        "\n",
        "\n",
        "plt.plot(adaboost.wl_errors, label=\"$\\epsilon_t$\")\n",
        "plt.plot(adaboost.ens_errors, label=\"EnsError\")\n",
        "plt.legend()"
      ],
      "execution_count": null,
      "outputs": [
        {
          "output_type": "stream",
          "name": "stdout",
          "text": [
            "train error:0.5005 test error:0.5035\n"
          ]
        },
        {
          "output_type": "execute_result",
          "data": {
            "text/plain": [
              "<matplotlib.legend.Legend at 0x7f02a164ec10>"
            ]
          },
          "metadata": {},
          "execution_count": 13
        },
        {
          "output_type": "display_data",
          "data": {
            "image/png": "[encoded data removed]",
            "text/plain": [
              "<Figure size 432x288 with 1 Axes>"
            ]
          },
          "metadata": {
            "needs_background": "light"
          }
        }
      ]
    },
    {
      "cell_type": "markdown",
      "metadata": {
        "id": "p2QoR0qe0GGD"
      },
      "source": [
        "# Testing on the weakest of the weak learners"
      ]
    },
    {
      "cell_type": "markdown",
      "metadata": {
        "id": "7cghHyNR0GGD"
      },
      "source": [
        "We now want to experiment with a VERY weak learner. The weak learner works as follows:\n",
        "\n",
        "- it creates a random linear model by generating the needed weight vector $\\mathbf{w}$ at random; each weight shall be sampled from U(-1,1);\n",
        "- it evaluates the weighted loss $\\epsilon_t$ on the given dataset and flip the linear model if $\\epsilon_t > 0.5$\n",
        "- at prediction time it predicts +1 if $\\mathbf{x} \\cdot \\mathbf{w} > 0$ it predicts -1 otherwise."
      ]
    },
    {
      "cell_type": "code",
      "metadata": {
        "id": "k_1JV1bw0GGD"
      },
      "source": [
        "class RandomLinearModel:\n",
        "    def loss(self, y, y_, w):\n",
        "        return np.sum(w[y != y_])\n",
        "\n",
        "\n",
        "    def fit(self,X,y,sample_weight=None):\n",
        "        self.w = (np.random.rand(X.shape[1]) - 0.5) * 2.0 #genero a caso il vettore dei pesi del modello lineare a caso\n",
        "        y_ = self.predict(X)\n",
        "\n",
        "        if self.loss(y, y_, sample_weight) > 0.5:\n",
        "            self.w = -self.w #ribalto il valore dei pesi in modo tale che per gli esempi dove prima prediceva 1 adesso predice -1 e viceversa\n",
        "\n",
        "        return self\n",
        "\n",
        "\n",
        "    def predict(self,X):\n",
        "        return np.sign(np.matmul(X, self.w))\n",
        "\n",
        "\n",
        "\n"
      ],
      "execution_count": null,
      "outputs": []
    },
    {
      "cell_type": "markdown",
      "metadata": {
        "id": "hoOS3unH0GGD"
      },
      "source": [
        "Let us now learn an AdaBoost model using the RandomLinearModel weak learner printing every $K$ iterations the weighted error and the current error of the ensemble. Evaluate the training and test error of the final ensemble model."
      ]
    },
    {
      "cell_type": "code",
      "metadata": {
        "id": "pXI0gQ4i0GGD",
        "colab": {
          "base_uri": "https://localhost:8080/"
        },
        "outputId": "d2fe1005-248b-4777-fd87-7df515d90a1f"
      },
      "source": [
        "rs = RandomLinearModel()\n",
        "a = AdaBoost(rs,30000)\n",
        "a.fit(X_train,y_train)\n",
        "\n",
        "y_train_ = a.predict(X_train)\n",
        "y_test_ = a.predict(X_test)"
      ],
      "execution_count": null,
      "outputs": [
        {
          "output_type": "stream",
          "name": "stdout",
          "text": [
            "step:300 et:0.4972 error:0.4400\n",
            "step:600 et:0.4949 error:0.4230\n",
            "step:900 et:0.4997 error:0.3936\n",
            "step:1200 et:0.4997 error:0.3842\n",
            "step:1500 et:0.4972 error:0.3711\n",
            "step:1800 et:0.4978 error:0.3608\n",
            "step:2100 et:0.4943 error:0.3490\n",
            "step:2400 et:0.4967 error:0.3448\n",
            "step:2700 et:0.4989 error:0.3335\n",
            "step:3000 et:0.4998 error:0.3262\n",
            "step:3300 et:0.4991 error:0.3211\n",
            "step:3600 et:0.4966 error:0.3110\n",
            "step:3900 et:0.4955 error:0.3043\n",
            "step:4200 et:0.4972 error:0.2994\n",
            "step:4500 et:0.4972 error:0.2909\n",
            "step:4800 et:0.4984 error:0.2839\n",
            "step:5100 et:0.4953 error:0.2796\n",
            "step:5400 et:0.4934 error:0.2760\n",
            "step:5700 et:0.4963 error:0.2670\n",
            "step:6000 et:0.5000 error:0.2570\n",
            "step:6300 et:0.4970 error:0.2539\n",
            "step:6600 et:0.4988 error:0.2464\n",
            "step:6900 et:0.4983 error:0.2397\n",
            "step:7200 et:0.4960 error:0.2400\n",
            "step:7500 et:0.4998 error:0.2345\n",
            "step:7800 et:0.4991 error:0.2290\n",
            "step:8100 et:0.4957 error:0.2263\n",
            "step:8400 et:0.4996 error:0.2213\n",
            "step:8700 et:0.4975 error:0.2132\n",
            "step:9000 et:0.4983 error:0.2107\n",
            "step:9300 et:0.4968 error:0.2037\n",
            "step:9600 et:0.4919 error:0.2016\n",
            "step:9900 et:0.4959 error:0.2009\n",
            "step:10200 et:0.4970 error:0.1964\n",
            "step:10500 et:0.4989 error:0.1901\n",
            "step:10800 et:0.4999 error:0.1888\n",
            "step:11100 et:0.4977 error:0.1831\n",
            "step:11400 et:0.4993 error:0.1825\n",
            "step:11700 et:0.4955 error:0.1757\n",
            "step:12000 et:0.4992 error:0.1700\n",
            "step:12300 et:0.4968 error:0.1699\n",
            "step:12600 et:0.4997 error:0.1641\n",
            "step:12900 et:0.4981 error:0.1604\n",
            "step:13200 et:0.4942 error:0.1562\n",
            "step:13500 et:0.4969 error:0.1515\n",
            "step:13800 et:0.4998 error:0.1505\n",
            "step:14100 et:0.4977 error:0.1462\n",
            "step:14400 et:0.4992 error:0.1416\n",
            "step:14700 et:0.4945 error:0.1386\n",
            "step:15000 et:0.4998 error:0.1381\n",
            "step:15300 et:0.4977 error:0.1383\n",
            "step:15600 et:0.4969 error:0.1335\n",
            "step:15900 et:0.4982 error:0.1318\n",
            "step:16200 et:0.4973 error:0.1280\n",
            "step:16500 et:0.4961 error:0.1230\n",
            "step:16800 et:0.4956 error:0.1220\n",
            "step:17100 et:0.4986 error:0.1199\n",
            "step:17400 et:0.4981 error:0.1214\n",
            "step:17700 et:0.4995 error:0.1192\n",
            "step:18000 et:0.4991 error:0.1197\n",
            "step:18300 et:0.4970 error:0.1135\n",
            "step:18600 et:0.4986 error:0.1103\n",
            "step:18900 et:0.4988 error:0.1091\n",
            "step:19200 et:0.4996 error:0.1071\n",
            "step:19500 et:0.4905 error:0.1041\n",
            "step:19800 et:0.4967 error:0.1030\n",
            "step:20100 et:0.4967 error:0.0996\n",
            "step:20400 et:0.4990 error:0.0984\n",
            "step:20700 et:0.4997 error:0.0946\n",
            "step:21000 et:0.4996 error:0.0951\n",
            "step:21300 et:0.4990 error:0.0938\n",
            "step:21600 et:0.4962 error:0.0853\n",
            "step:21900 et:0.4966 error:0.0849\n",
            "step:22200 et:0.4981 error:0.0833\n",
            "step:22500 et:0.5000 error:0.0821\n",
            "step:22800 et:0.4993 error:0.0783\n",
            "step:23100 et:0.4978 error:0.0771\n",
            "step:23400 et:0.4942 error:0.0704\n",
            "step:23700 et:0.4944 error:0.0735\n",
            "step:24000 et:0.4994 error:0.0703\n",
            "step:24300 et:0.4946 error:0.0688\n",
            "step:24600 et:0.4963 error:0.0669\n",
            "step:24900 et:0.4979 error:0.0651\n",
            "step:25200 et:0.4954 error:0.0658\n",
            "step:25500 et:0.4996 error:0.0644\n",
            "step:25800 et:0.4970 error:0.0617\n",
            "step:26100 et:0.4993 error:0.0606\n",
            "step:26400 et:0.4971 error:0.0592\n",
            "step:26700 et:0.4942 error:0.0558\n",
            "step:27000 et:0.4996 error:0.0520\n",
            "step:27300 et:0.4950 error:0.0506\n",
            "step:27600 et:0.4944 error:0.0486\n",
            "step:27900 et:0.4989 error:0.0476\n",
            "step:28200 et:0.4967 error:0.0450\n",
            "step:28500 et:0.4979 error:0.0414\n",
            "step:28800 et:0.4990 error:0.0435\n",
            "step:29100 et:0.4995 error:0.0387\n",
            "step:29400 et:0.4950 error:0.0399\n",
            "step:29700 et:0.4998 error:0.0385\n"
          ]
        }
      ]
    },
    {
      "cell_type": "code",
      "metadata": {
        "colab": {
          "base_uri": "https://localhost:8080/",
          "height": 282
        },
        "id": "wMaxEFGZGuey",
        "outputId": "d0d786a9-9424-463d-c4e3-88ae1ad9d6de"
      },
      "source": [
        "plt.plot(a.wl_errors, label=\"$\\epsilon_t$\")\n",
        "plt.plot(a.ens_errors, label=\"EnsError\")\n",
        "plt.legend()\n",
        "\n",
        "train_err = np.sum(y_train_ != y_train) / len(y_train)\n",
        "test_err = np.sum(y_test_ != y_test) / len(y_test)\n",
        "\n",
        "print(\"train error:{:.4f} test error:{:.4f}\".format(train_err, test_err))"
      ],
      "execution_count": null,
      "outputs": [
        {
          "output_type": "stream",
          "name": "stdout",
          "text": [
            "train error:0.3816 test error:0.4980\n"
          ]
        },
        {
          "output_type": "display_data",
          "data": {
            "image/png": "[encoded data removed]",
            "text/plain": [
              "<Figure size 432x288 with 1 Axes>"
            ]
          },
          "metadata": {
            "needs_background": "light"
          }
        }
      ]
    }
  ]
}